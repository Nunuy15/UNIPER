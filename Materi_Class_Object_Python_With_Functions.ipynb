{
  "cells": [
    {
      "cell_type": "markdown",
      "metadata": {
        "id": "view-in-github",
        "colab_type": "text"
      },
      "source": [
        "<a href=\"https://colab.research.google.com/github/Nunuy15/UNIPER/blob/main/Materi_Class_Object_Python_With_Functions.ipynb\" target=\"_parent\"><img src=\"https://colab.research.google.com/assets/colab-badge.svg\" alt=\"Open In Colab\"/></a>"
      ]
    },
    {
      "cell_type": "markdown",
      "id": "6bdbc340",
      "metadata": {
        "id": "6bdbc340"
      },
      "source": [
        "\n",
        "<center>\n",
        "<b><h1>Modul Class dan Object dalam Python</h1></b>\n",
        "</center>\n",
        "\n",
        "**NURITA EVITARINA, M.KOM**"
      ]
    },
    {
      "cell_type": "markdown",
      "id": "04aeb411",
      "metadata": {
        "id": "04aeb411"
      },
      "source": [
        "## 🧠 1. Apa Itu Class dan Object?\n",
        "### 🔸 Class\n",
        "Class adalah **cetakan atau blueprint** untuk membuat object. Di dalam class, kita mendefinisikan:\n",
        "- **Atribut (properties/data)** → nilai/data yang melekat pada object.\n",
        "- **Method (fungsi)** → perilaku/fungsi yang dapat dilakukan oleh object.\n",
        "\n",
        "### 🔸 Object\n",
        "Object adalah **instance nyata dari class**. Setelah class dibuat, kita bisa membuat banyak object dari class tersebut."
      ]
    },
    {
      "cell_type": "markdown",
      "id": "df0579a1",
      "metadata": {
        "id": "df0579a1"
      },
      "source": [
        "## 🧩 2. Konsep Inti dalam OOP Python\n",
        "### a. Enkapsulasi\n",
        "Penyembunyian data agar hanya bisa diakses melalui method tertentu. Menggunakan private/protected attribute (`_`, `__`).\n",
        "\n",
        "### b. Inheritance (Pewarisan)\n",
        "Kemampuan sebuah class untuk mewarisi atribut dan method dari class lain.\n",
        "\n",
        "### c. Polimorfisme\n",
        "Kemampuan method dengan nama sama untuk memiliki perilaku berbeda di class berbeda.\n",
        "\n",
        "### d. Abstraksi\n",
        "Menyembunyikan kompleksitas dan hanya menampilkan informasi penting."
      ]
    },
    {
      "cell_type": "markdown",
      "id": "8bb548df",
      "metadata": {
        "id": "8bb548df"
      },
      "source": [
        "## 🧩 3. Struktur Dasar Class di Python"
      ]
    },
    {
      "cell_type": "code",
      "execution_count": 2,
      "id": "327f39c8",
      "metadata": {
        "id": "327f39c8"
      },
      "outputs": [],
      "source": [
        "class NamaClass:\n",
        "    def __init__(self, atribut1, atribut2):\n",
        "        self.atribut1 = atribut1\n",
        "        self.atribut2 = atribut2\n",
        "\n",
        "    def method(self):\n",
        "        print(\"Ini method class\")"
      ]
    },
    {
      "cell_type": "markdown",
      "id": "9eb94306",
      "metadata": {
        "id": "9eb94306"
      },
      "source": [
        "## 🧩 4. Membuat dan Menggunakan Object"
      ]
    },
    {
      "cell_type": "markdown",
      "id": "0ed9230a",
      "metadata": {
        "id": "0ed9230a"
      },
      "source": [
        "\n",
        "### Penjelasan:\n",
        "- `Mobil` adalah class yang memiliki atribut `merk` dan `warna`, serta method `info()`.\n",
        "- `mobil1 = Mobil(\"Toyota\", \"Merah\")` membuat sebuah object dari class `Mobil` dengan nilai atribut yang diberikan.\n",
        "- `mobil1.info()` memanggil method `info()` yang akan mencetak deskripsi object tersebut.\n"
      ]
    },
    {
      "cell_type": "code",
      "execution_count": 3,
      "id": "dc56fabf",
      "metadata": {
        "colab": {
          "base_uri": "https://localhost:8080/"
        },
        "id": "dc56fabf",
        "outputId": "67aef6be-54f9-4c01-bc03-ec715510f04d"
      },
      "outputs": [
        {
          "output_type": "stream",
          "name": "stdout",
          "text": [
            "Mobil Toyota berwarna Merah\n"
          ]
        }
      ],
      "source": [
        "class Mobil:\n",
        "    def __init__(self, merk, warna):\n",
        "        self.merk = merk\n",
        "        self.warna = warna\n",
        "\n",
        "    def info(self):\n",
        "        print(f\"Mobil {self.merk} berwarna {self.warna}\")\n",
        "\n",
        "mobil1 = Mobil(\"Toyota\", \"Merah\")\n",
        "mobil1.info()"
      ]
    },
    {
      "cell_type": "markdown",
      "id": "6943e608",
      "metadata": {
        "id": "6943e608"
      },
      "source": [
        "## 🧩 5. Akses Atribut dan Method"
      ]
    },
    {
      "cell_type": "markdown",
      "id": "ba15d8aa",
      "metadata": {
        "id": "ba15d8aa"
      },
      "source": [
        "\n",
        "### Penjelasan:\n",
        "- Atribut dapat diakses langsung menggunakan tanda titik (`.`), misalnya `mobil1.merk`.\n",
        "- Method dipanggil menggunakan tanda kurung setelah titik, misalnya `mobil1.info()`.\n"
      ]
    },
    {
      "cell_type": "code",
      "execution_count": 4,
      "id": "4130330a",
      "metadata": {
        "colab": {
          "base_uri": "https://localhost:8080/"
        },
        "id": "4130330a",
        "outputId": "42403f62-9aae-4f38-9ce0-5405f7cfb779"
      },
      "outputs": [
        {
          "output_type": "stream",
          "name": "stdout",
          "text": [
            "Toyota\n",
            "Mobil Toyota berwarna Merah\n"
          ]
        }
      ],
      "source": [
        "print(mobil1.merk)\n",
        "mobil1.info()"
      ]
    },
    {
      "cell_type": "markdown",
      "id": "ab42ca53",
      "metadata": {
        "id": "ab42ca53"
      },
      "source": [
        "## 🧩 6. Built-in Method Penting\n",
        "\n",
        "| Nama Method     | Fungsi                                                                 |\n",
        "|------------------|------------------------------------------------------------------------|\n",
        "| `__init__()`     | Constructor, dijalankan saat object dibuat.                           |\n",
        "| `__str__()`      | Menampilkan representasi string dari object saat diprint.             |\n",
        "| `__repr__()`     | Representasi resmi object (biasanya untuk debugging).                 |\n",
        "| `__del__()`      | Destructor, dijalankan saat object dihapus.                           |"
      ]
    },
    {
      "cell_type": "markdown",
      "id": "464a5df9",
      "metadata": {
        "id": "464a5df9"
      },
      "source": [
        "## 🧩 7. Pewarisan (Inheritance)"
      ]
    },
    {
      "cell_type": "markdown",
      "id": "d79f4615",
      "metadata": {
        "id": "d79f4615"
      },
      "source": [
        "\n",
        "### Fungsi-Fungsi Terkait Pewarisan:\n",
        "- `super()` → Memanggil method dari parent class.\n",
        "- Overriding method → Child class bisa membuat ulang method dari parent class agar sesuai kebutuhan.\n",
        "\n",
        "```python\n",
        "class Hewan:\n",
        "    def __init__(self, nama):\n",
        "        self.nama = nama\n",
        "\n",
        "    def suara(self):\n",
        "        print(\"Hewan bersuara\")\n",
        "\n",
        "class Kucing(Hewan):\n",
        "    def __init__(self, nama, warna):\n",
        "        super().__init__(nama)  # Memanggil constructor parent\n",
        "        self.warna = warna\n",
        "\n",
        "    def suara(self):\n",
        "        print(\"Meong\")\n",
        "\n",
        "k = Kucing(\"Kitty\", \"Putih\")\n",
        "k.suara()\n",
        "```\n"
      ]
    },
    {
      "cell_type": "markdown",
      "id": "f726a7af",
      "metadata": {
        "id": "f726a7af"
      },
      "source": [
        "\n",
        "### Penjelasan:\n",
        "- Class `Kucing` mewarisi class `Hewan`, artinya `Kucing` memiliki semua atribut dan method dari `Hewan`.\n",
        "- Method `suara()` di class `Kucing` menimpa (override) method `suara()` dari `Hewan`.\n",
        "- Ini memungkinkan perilaku berbeda walaupun nama method sama (contoh polimorfisme).\n"
      ]
    },
    {
      "cell_type": "code",
      "execution_count": 5,
      "id": "145d6150",
      "metadata": {
        "colab": {
          "base_uri": "https://localhost:8080/"
        },
        "id": "145d6150",
        "outputId": "c4fee6dc-3348-41e9-bc10-634b480afd56"
      },
      "outputs": [
        {
          "output_type": "stream",
          "name": "stdout",
          "text": [
            "Meong\n"
          ]
        }
      ],
      "source": [
        "class Hewan:\n",
        "    def __init__(self, nama):\n",
        "        self.nama = nama\n",
        "\n",
        "    def suara(self):\n",
        "        print(\"Hewan bersuara\")\n",
        "\n",
        "class Kucing(Hewan):\n",
        "    def suara(self):\n",
        "        print(\"Meong\")\n",
        "\n",
        "k = Kucing(\"Kitty\")\n",
        "k.suara()"
      ]
    },
    {
      "cell_type": "markdown",
      "id": "d87db7bc",
      "metadata": {
        "id": "d87db7bc"
      },
      "source": [
        "## 🧩 8. Enkapsulasi (Encapsulation)"
      ]
    },
    {
      "cell_type": "markdown",
      "id": "efac1efd",
      "metadata": {
        "id": "efac1efd"
      },
      "source": [
        "\n",
        "### Fungsi-Fungsi Terkait Enkapsulasi:\n",
        "- Gunakan `__atribut` untuk membuat atribut private.\n",
        "- Gunakan `@property` dan `@setter` agar akses data tetap aman dan terkontrol.\n",
        "\n",
        "```python\n",
        "class Akun:\n",
        "    def __init__(self, saldo):\n",
        "        self.__saldo = saldo\n",
        "\n",
        "    @property\n",
        "    def saldo(self):\n",
        "        return self.__saldo\n",
        "\n",
        "    @saldo.setter\n",
        "    def saldo(self, nilai):\n",
        "        if nilai >= 0:\n",
        "            self.__saldo = nilai\n",
        "\n",
        "a = Akun(10000)\n",
        "print(a.saldo)\n",
        "a.saldo = 15000\n",
        "print(a.saldo)\n",
        "```\n"
      ]
    },
    {
      "cell_type": "markdown",
      "id": "98f2a00b",
      "metadata": {
        "id": "98f2a00b"
      },
      "source": [
        "\n",
        "### Penjelasan:\n",
        "- Atribut `__saldo` bersifat private karena diawali dengan dua underscore.\n",
        "- Atribut ini tidak bisa diakses langsung dari luar class.\n",
        "- Method `lihat_saldo()` dan `setor()` digunakan sebagai cara resmi untuk mengakses dan mengubah nilai saldo.\n"
      ]
    },
    {
      "cell_type": "code",
      "execution_count": 6,
      "id": "daf17ef8",
      "metadata": {
        "id": "daf17ef8"
      },
      "outputs": [],
      "source": [
        "class Bank:\n",
        "    def __init__(self, saldo):\n",
        "        self.__saldo = saldo\n",
        "\n",
        "    def lihat_saldo(self):\n",
        "        print(f\"Saldo: {self.__saldo}\")\n",
        "\n",
        "    def setor(self, jumlah):\n",
        "        self.__saldo += jumlah"
      ]
    },
    {
      "cell_type": "markdown",
      "id": "2caed374",
      "metadata": {
        "id": "2caed374"
      },
      "source": [
        "## 🧩 9. Polimorfisme"
      ]
    },
    {
      "cell_type": "markdown",
      "id": "1a7ee7ca",
      "metadata": {
        "id": "1a7ee7ca"
      },
      "source": [
        "\n",
        "### Fungsi-Fungsi Terkait Polimorfisme:\n",
        "- Gunakan method dengan nama yang sama di beberapa class.\n",
        "- Gunakan fungsi umum yang bisa menerima parameter dari berbagai class.\n",
        "\n",
        "```python\n",
        "class Anjing:\n",
        "    def suara(self):\n",
        "        return \"Guk Guk\"\n",
        "\n",
        "class Kucing:\n",
        "    def suara(self):\n",
        "        return \"Meong\"\n",
        "\n",
        "def hewan_bersuara(hewan):\n",
        "    print(hewan.suara())\n",
        "\n",
        "hewan_bersuara(Anjing())\n",
        "hewan_bersuara(Kucing())\n",
        "```\n"
      ]
    },
    {
      "cell_type": "markdown",
      "id": "de1c1e77",
      "metadata": {
        "id": "de1c1e77"
      },
      "source": [
        "\n",
        "### Penjelasan:\n",
        "- Function `panggil_suara()` menerima parameter `hewan` tanpa tahu tipenya.\n",
        "- Saat objek `Burung` atau `Ayam` dimasukkan, function akan memanggil method `suara()` sesuai class masing-masing.\n",
        "- Ini menunjukkan polimorfisme: method yang sama bisa menghasilkan perilaku berbeda.\n"
      ]
    },
    {
      "cell_type": "code",
      "execution_count": 7,
      "id": "5f8f00e1",
      "metadata": {
        "colab": {
          "base_uri": "https://localhost:8080/"
        },
        "id": "5f8f00e1",
        "outputId": "e237d196-c6ec-46bc-d239-6932f3d429aa"
      },
      "outputs": [
        {
          "output_type": "stream",
          "name": "stdout",
          "text": [
            "Cuit cuit\n",
            "Kukuruyuk\n"
          ]
        }
      ],
      "source": [
        "class Burung:\n",
        "    def suara(self):\n",
        "        print(\"Cuit cuit\")\n",
        "\n",
        "class Ayam:\n",
        "    def suara(self):\n",
        "        print(\"Kukuruyuk\")\n",
        "\n",
        "def panggil_suara(hewan):\n",
        "    hewan.suara()\n",
        "\n",
        "panggil_suara(Burung())\n",
        "panggil_suara(Ayam())"
      ]
    },
    {
      "cell_type": "markdown",
      "id": "ba2932b8",
      "metadata": {
        "id": "ba2932b8"
      },
      "source": [
        "## 🧩 10. Abstraksi (dengan Modul `abc`)"
      ]
    },
    {
      "cell_type": "markdown",
      "id": "c40296c9",
      "metadata": {
        "id": "c40296c9"
      },
      "source": [
        "\n",
        "### Fungsi-Fungsi Terkait Abstraksi:\n",
        "- Gunakan modul `abc` dan dekorator `@abstractmethod` untuk membuat method wajib diimplementasikan.\n",
        "- Gunakan class abstract sebagai blueprint dasar.\n",
        "\n",
        "```python\n",
        "from abc import ABC, abstractmethod\n",
        "\n",
        "class Kendaraan(ABC):\n",
        "    @abstractmethod\n",
        "    def jalan(self):\n",
        "        pass\n",
        "\n",
        "class Mobil(Kendaraan):\n",
        "    def jalan(self):\n",
        "        print(\"Mobil berjalan di jalan raya\")\n",
        "\n",
        "m = Mobil()\n",
        "m.jalan()\n",
        "```\n"
      ]
    },
    {
      "cell_type": "markdown",
      "id": "e7961f27",
      "metadata": {
        "id": "e7961f27"
      },
      "source": [
        "\n",
        "### Penjelasan:\n",
        "- Class `Bentuk` adalah class abstrak, yang berarti tidak bisa dibuat objek langsung.\n",
        "- Method `luas()` diberi dekorator `@abstractmethod` sebagai kontrak agar class turunan wajib mengimplementasikannya.\n",
        "- Class `Persegi` adalah implementasi konkret dari bentuk abstrak.\n"
      ]
    },
    {
      "cell_type": "code",
      "execution_count": 8,
      "id": "e3ff2ff7",
      "metadata": {
        "id": "e3ff2ff7"
      },
      "outputs": [],
      "source": [
        "from abc import ABC, abstractmethod\n",
        "\n",
        "class Bentuk(ABC):\n",
        "    @abstractmethod\n",
        "    def luas(self):\n",
        "        pass\n",
        "\n",
        "class Persegi(Bentuk):\n",
        "    def __init__(self, sisi):\n",
        "        self.sisi = sisi\n",
        "\n",
        "    def luas(self):\n",
        "        return self.sisi * self.sisi"
      ]
    },
    {
      "cell_type": "markdown",
      "id": "7fa11cb6",
      "metadata": {
        "id": "7fa11cb6"
      },
      "source": [
        "## 🧩 11. Fungsi-Fungsi (Method) Umum dalam Class Python\n",
        "\n",
        "Berikut beberapa method yang sering digunakan saat membuat class di Python:\n",
        "\n",
        "| Nama Fungsi         | Deskripsi                                                                 |\n",
        "|---------------------|--------------------------------------------------------------------------|\n",
        "| `__init__()`        | Constructor, dijalankan otomatis saat objek dibuat.                     |\n",
        "| `__str__()`         | Menampilkan representasi string saat objek dicetak dengan `print()`.    |\n",
        "| `__repr__()`        | Menampilkan representasi resmi objek, biasanya untuk debugging.         |\n",
        "| `__del__()`         | Destructor, dipanggil saat objek dihapus atau keluar dari scope.        |\n",
        "| `__len__()`         | Digunakan untuk mengembalikan panjang objek jika digunakan dengan `len()`. |\n",
        "| `__eq__()`          | Digunakan untuk membandingkan dua objek dengan operator `==`.           |\n",
        "| `__lt__()`          | Digunakan untuk operator `<` (less than).                               |\n",
        "| `__gt__()`          | Digunakan untuk operator `>` (greater than).                            |\n",
        "\n",
        "### Contoh Penggunaan `__eq__` dan `__str__`:\n",
        "```python\n",
        "class Buku:\n",
        "    def __init__(self, judul, penulis):\n",
        "        self.judul = judul\n",
        "        self.penulis = penulis\n",
        "\n",
        "    def __str__(self):\n",
        "        return f\"{self.judul} oleh {self.penulis}\"\n",
        "\n",
        "    def __eq__(self, other):\n",
        "        return self.judul == other.judul and self.penulis == other.penulis\n",
        "\n",
        "b1 = Buku(\"Python Dasar\", \"Ari\")\n",
        "b2 = Buku(\"Python Dasar\", \"Ari\")\n",
        "\n",
        "print(b1)         # Output: Python Dasar oleh Ari\n",
        "print(b1 == b2)   # Output: True\n",
        "```\n"
      ]
    },
    {
      "cell_type": "markdown",
      "id": "16f63852",
      "metadata": {
        "id": "16f63852"
      },
      "source": [
        "## 🎯 Manfaat Penggunaan Class & Object\n",
        "- Reusable: Bisa membuat banyak object dari satu class.\n",
        "- Terstruktur: Kode lebih terorganisir dan scalable.\n",
        "- Kolaboratif: Cocok untuk teamwork dan pengembangan sistem besar.\n",
        "- Modular: Memisahkan logika fungsi dari data."
      ]
    }
  ],
  "metadata": {
    "colab": {
      "provenance": [],
      "include_colab_link": true
    },
    "language_info": {
      "name": "python"
    },
    "kernelspec": {
      "name": "python3",
      "display_name": "Python 3"
    }
  },
  "nbformat": 4,
  "nbformat_minor": 5
}