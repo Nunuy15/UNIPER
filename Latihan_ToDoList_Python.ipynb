{
  "cells": [
    {
      "cell_type": "markdown",
      "metadata": {
        "id": "view-in-github",
        "colab_type": "text"
      },
      "source": [
        "<a href=\"https://colab.research.google.com/github/Nunuy15/UNIPER/blob/main/Latihan_ToDoList_Python.ipynb\" target=\"_parent\"><img src=\"https://colab.research.google.com/assets/colab-badge.svg\" alt=\"Open In Colab\"/></a>"
      ]
    },
    {
      "cell_type": "markdown",
      "id": "1850ef14",
      "metadata": {
        "id": "1850ef14"
      },
      "source": [
        "\n",
        "# 📝 Latihan Praktek – Aplikasi To-Do List Python\n",
        "\n",
        "**Tujuan**: Mahasiswa mampu mengembangkan dan memodifikasi aplikasi `To-Do List` menggunakan Python dan menyimpan data ke dalam file `.json`.\n",
        "\n",
        "---\n",
        "\n",
        "## 🔧 Instruksi Umum\n",
        "1. Buka *Jupyter Notebook* atau *Google Colab*.\n",
        "2. Buat file baru dengan nama `latihan_todolist.ipynb`.\n",
        "3. Gunakan pendekatan OOP atau modular jika diminta.\n",
        "4. Simpan file JSON dengan nama `data_tugas.json`.\n",
        "\n",
        "---\n",
        "\n",
        "## **Soal Latihan Praktek**\n",
        "\n",
        "### 🔹 Soal 1: Menambahkan Kategori Tugas\n",
        "Modifikasi fungsi `add_task()` agar user bisa menambahkan **kategori** tugas (misalnya: \"Kuliah\", \"Kerja\", \"Pribadi\", dll). Tampilkan juga kategori tersebut saat daftar tugas ditampilkan.\n",
        "\n",
        "> Contoh Output:\n",
        "```\n",
        "1. [Kerja] Kirim laporan mingguan - [pending]\n",
        "2. [Kuliah] Kerjakan tugas UAS - [done]\n",
        "```\n",
        "\n",
        "---\n",
        "\n",
        "### 🔹 Soal 2: Filter Tugas Berdasarkan Kategori\n",
        "Tambahkan fitur baru dengan nama `filter_by_category(category)` yang akan menampilkan semua tugas dengan kategori tertentu saja.\n",
        "\n",
        "> Contoh Pemanggilan:\n",
        "```python\n",
        "filter_by_category(\"Kuliah\")\n",
        "```\n",
        "\n",
        "---\n",
        "\n",
        "### 🔹 Soal 3: Hapus Tugas Berdasarkan Index\n",
        "Tambahkan fungsi `delete_task(index)` untuk menghapus tugas berdasarkan index yang ditampilkan pada `show_tasks()`.\n",
        "\n",
        "---\n",
        "\n",
        "### 🔹 Soal 4: Statistik Tugas\n",
        "Buat fungsi baru `show_stats()` yang akan menampilkan jumlah total tugas, jumlah yang selesai (`done`), dan jumlah yang belum selesai (`pending`).\n",
        "\n",
        "> Contoh Output:\n",
        "```\n",
        "Total tugas: 5\n",
        "Selesai: 2\n",
        "Belum selesai: 3\n",
        "```\n",
        "\n",
        "---\n",
        "\n",
        "### 🔹 Soal 5: Menyimpan Riwayat Aksi\n",
        "Tambahkan fitur logging di mana setiap kali pengguna menambah, menghapus, atau menandai tugas sebagai selesai, aksi tersebut disimpan ke file `log.txt` dalam format berikut:\n",
        "\n",
        "```\n",
        "[2025-05-21 08:30] Tugas ditambahkan: \"Belajar Python\"\n",
        "[2025-05-21 08:35] Tugas dihapus: \"Belajar Python\"\n",
        "```\n",
        "\n",
        "---\n",
        "\n",
        "### 🧩 Soal Bonus: Antarmuka Lebih Menarik\n",
        "Gunakan fungsi `colored()` dari modul untuk menampilkan tugas:\n",
        "- Warna **hijau** untuk tugas `done`\n",
        "- Warna **merah** untuk tugas `pending`\n",
        "\n",
        "---\n",
        "\n",
        "## ✅ Kriteria Penilaian:\n",
        "- [ ] Fungsi berjalan dengan benar\n",
        "- [ ] JSON disimpan dan dimuat sesuai\n",
        "- [ ] Penulisan kode rapi dan terstruktur\n",
        "- [ ] Output sesuai instruksi\n",
        "- [ ] Bonus (jika dikerjakan)\n"
      ]
    }
  ],
  "metadata": {
    "colab": {
      "provenance": [],
      "include_colab_link": true
    }
  },
  "nbformat": 4,
  "nbformat_minor": 5
}