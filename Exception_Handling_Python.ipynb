{
  "cells": [
    {
      "cell_type": "markdown",
      "metadata": {
        "id": "view-in-github",
        "colab_type": "text"
      },
      "source": [
        "<a href=\"https://colab.research.google.com/github/Nunuy15/UNIPER/blob/main/Exception_Handling_Python.ipynb\" target=\"_parent\"><img src=\"https://colab.research.google.com/assets/colab-badge.svg\" alt=\"Open In Colab\"/></a>"
      ]
    },
    {
      "cell_type": "markdown",
      "source": [
        "<center>\n",
        "<b><h1>Modul Exception Handling di Python</h1></b>\n",
        "</center>\n",
        "\n",
        "**NURITA EVITARINA, M.KOM**"
      ],
      "metadata": {
        "id": "A_s0tF5OhAj1"
      },
      "id": "A_s0tF5OhAj1"
    },
    {
      "cell_type": "markdown",
      "id": "e12d2da1",
      "metadata": {
        "id": "e12d2da1"
      },
      "source": [
        "\n",
        "\n",
        "Exception handling adalah fitur penting dalam Python untuk menangani error (kesalahan) yang mungkin terjadi saat program dijalankan, tanpa menghentikan program secara keseluruhan. Dengan penanganan eksepsi, kita dapat memberikan respons yang sesuai saat terjadi kesalahan."
      ]
    },
    {
      "cell_type": "markdown",
      "id": "b4105115",
      "metadata": {
        "id": "b4105115"
      },
      "source": [
        "## 🔸 Jenis-Jenis Eksepsi\n",
        "Beberapa jenis eksepsi umum dalam Python:\n",
        "- `ZeroDivisionError`: Kesalahan karena pembagian dengan nol.\n",
        "- `ValueError`: Kesalahan saat tipe nilai tidak sesuai.\n",
        "- `IndexError`: Akses indeks list yang di luar jangkauan.\n",
        "- `KeyError`: Akses key yang tidak ada pada dictionary.\n",
        "- `TypeError`: Operasi dilakukan pada tipe data yang tidak kompatibel."
      ]
    },
    {
      "cell_type": "code",
      "execution_count": 2,
      "id": "c7f9bb0b",
      "metadata": {
        "colab": {
          "base_uri": "https://localhost:8080/",
          "height": 144
        },
        "id": "c7f9bb0b",
        "outputId": "595625b5-a5eb-4f25-8e65-c94d130ec48f"
      },
      "outputs": [
        {
          "output_type": "error",
          "ename": "ValueError",
          "evalue": "invalid literal for int() with base 10: 'abc'",
          "traceback": [
            "\u001b[0;31m---------------------------------------------------------------------------\u001b[0m",
            "\u001b[0;31mValueError\u001b[0m                                Traceback (most recent call last)",
            "\u001b[0;32m<ipython-input-2-ffc3a93adb67>\u001b[0m in \u001b[0;36m<cell line: 0>\u001b[0;34m()\u001b[0m\n\u001b[0;32m----> 1\u001b[0;31m \u001b[0mx\u001b[0m \u001b[0;34m=\u001b[0m \u001b[0mint\u001b[0m\u001b[0;34m(\u001b[0m\u001b[0;34m\"abc\"\u001b[0m\u001b[0;34m)\u001b[0m  \u001b[0;31m# ValueError\u001b[0m\u001b[0;34m\u001b[0m\u001b[0;34m\u001b[0m\u001b[0m\n\u001b[0m",
            "\u001b[0;31mValueError\u001b[0m: invalid literal for int() with base 10: 'abc'"
          ]
        }
      ],
      "source": [
        "x = int(\"abc\")  # ValueError"
      ]
    },
    {
      "cell_type": "markdown",
      "id": "9e53dbb8",
      "metadata": {
        "id": "9e53dbb8"
      },
      "source": [
        "## 🔸 Multiple Eksepsi\n",
        "Menangani beberapa tipe error sekaligus dalam satu blok except."
      ]
    },
    {
      "cell_type": "code",
      "execution_count": 3,
      "id": "4549f3fb",
      "metadata": {
        "colab": {
          "base_uri": "https://localhost:8080/"
        },
        "id": "4549f3fb",
        "outputId": "81b6f763-2408-4171-e37d-14d6941288ae"
      },
      "outputs": [
        {
          "output_type": "stream",
          "name": "stdout",
          "text": [
            "Terjadi kesalahan: invalid literal for int() with base 10: 'abc'\n"
          ]
        }
      ],
      "source": [
        "try:\n",
        "    x = int(\"abc\")\n",
        "    y = 10 / 0\n",
        "except (ValueError, ZeroDivisionError) as e:\n",
        "    print(\"Terjadi kesalahan:\", e)"
      ]
    },
    {
      "cell_type": "markdown",
      "id": "36288777",
      "metadata": {
        "id": "36288777"
      },
      "source": [
        "## 🔸 Menggunakan Multiple Except Terpisah\n",
        "Menangani tiap jenis eksepsi secara spesifik."
      ]
    },
    {
      "cell_type": "code",
      "execution_count": 4,
      "id": "5ed3d56d",
      "metadata": {
        "colab": {
          "base_uri": "https://localhost:8080/"
        },
        "id": "5ed3d56d",
        "outputId": "912f7866-3026-402b-8aec-b7b6a052160c"
      },
      "outputs": [
        {
          "output_type": "stream",
          "name": "stdout",
          "text": [
            "Nilai tidak valid!\n"
          ]
        }
      ],
      "source": [
        "try:\n",
        "    x = int(\"abc\")\n",
        "except ValueError:\n",
        "    print(\"Nilai tidak valid!\")\n",
        "except ZeroDivisionError:\n",
        "    print(\"Tidak bisa membagi dengan nol.\")"
      ]
    },
    {
      "cell_type": "markdown",
      "id": "98ce22ce",
      "metadata": {
        "id": "98ce22ce"
      },
      "source": [
        "## 🔸 Eksepsi Bersarang\n",
        "Blok try-except di dalam try-except lain."
      ]
    },
    {
      "cell_type": "code",
      "execution_count": 5,
      "id": "23e95f1b",
      "metadata": {
        "colab": {
          "base_uri": "https://localhost:8080/"
        },
        "id": "23e95f1b",
        "outputId": "d84f6334-6d4d-4966-f849-9d43ec1700b3"
      },
      "outputs": [
        {
          "output_type": "stream",
          "name": "stdout",
          "text": [
            "Inner exception: pembagian nol\n"
          ]
        }
      ],
      "source": [
        "try:\n",
        "    try:\n",
        "        result = 10 / 0\n",
        "    except ZeroDivisionError:\n",
        "        print(\"Inner exception: pembagian nol\")\n",
        "except:\n",
        "    print(\"Outer exception\")"
      ]
    },
    {
      "cell_type": "markdown",
      "id": "9cd04d69",
      "metadata": {
        "id": "9cd04d69"
      },
      "source": [
        "## 🔸 Membuat Eksepsi Sendiri\n",
        "Membuat kelas exception kustom."
      ]
    },
    {
      "cell_type": "code",
      "execution_count": 6,
      "id": "5c259e02",
      "metadata": {
        "colab": {
          "base_uri": "https://localhost:8080/"
        },
        "id": "5c259e02",
        "outputId": "6c2dbb3c-a932-45b5-e783-7a79aa58eae2"
      },
      "outputs": [
        {
          "output_type": "stream",
          "name": "stdout",
          "text": [
            "Custom error terjadi: Nilai tidak boleh negatif\n"
          ]
        }
      ],
      "source": [
        "class CustomError(Exception):\n",
        "    pass\n",
        "\n",
        "def check_value(x):\n",
        "    if x < 0:\n",
        "        raise CustomError(\"Nilai tidak boleh negatif\")\n",
        "\n",
        "try:\n",
        "    check_value(-5)\n",
        "except CustomError as e:\n",
        "    print(\"Custom error terjadi:\", e)"
      ]
    },
    {
      "cell_type": "markdown",
      "id": "b7674923",
      "metadata": {
        "id": "b7674923"
      },
      "source": [
        "## 🔸 Menggunakan `finally` pada Try-Except\n",
        "Blok `finally` akan selalu dijalankan."
      ]
    },
    {
      "cell_type": "code",
      "execution_count": 7,
      "id": "06c1f64a",
      "metadata": {
        "colab": {
          "base_uri": "https://localhost:8080/"
        },
        "id": "06c1f64a",
        "outputId": "13574e85-0615-4dc7-ea6f-eccfa0aefbd3"
      },
      "outputs": [
        {
          "output_type": "stream",
          "name": "stdout",
          "text": [
            "File tidak ditemukan.\n",
            "Blok finally selalu dijalankan, tutup file di sini.\n"
          ]
        }
      ],
      "source": [
        "try:\n",
        "    f = open(\"data.txt\", \"r\")\n",
        "except FileNotFoundError:\n",
        "    print(\"File tidak ditemukan.\")\n",
        "finally:\n",
        "    print(\"Blok finally selalu dijalankan, tutup file di sini.\")"
      ]
    },
    {
      "cell_type": "markdown",
      "id": "5086d24b",
      "metadata": {
        "id": "5086d24b"
      },
      "source": [
        "## Kesimpulan\n",
        "Exception handling membuat program Python lebih andal dan aman dari crash karena kesalahan runtime. Gunakan `try-except` secara bijak, tambahkan `finally` bila perlu, dan buat eksepsi sendiri jika dibutuhkan untuk kebutuhan yang lebih spesifik."
      ]
    }
  ],
  "metadata": {
    "colab": {
      "provenance": [],
      "include_colab_link": true
    },
    "language_info": {
      "name": "python"
    },
    "kernelspec": {
      "name": "python3",
      "display_name": "Python 3"
    }
  },
  "nbformat": 4,
  "nbformat_minor": 5
}