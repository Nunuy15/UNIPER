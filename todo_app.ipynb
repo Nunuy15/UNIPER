{
  "nbformat": 4,
  "nbformat_minor": 0,
  "metadata": {
    "colab": {
      "provenance": [],
      "authorship_tag": "ABX9TyOpLJKi80D+q27QG5jFso2J",
      "include_colab_link": true
    },
    "kernelspec": {
      "name": "python3",
      "display_name": "Python 3"
    },
    "language_info": {
      "name": "python"
    }
  },
  "cells": [
    {
      "cell_type": "markdown",
      "metadata": {
        "id": "view-in-github",
        "colab_type": "text"
      },
      "source": [
        "<a href=\"https://colab.research.google.com/github/Nunuy15/UNIPER/blob/main/todo_app.ipynb\" target=\"_parent\"><img src=\"https://colab.research.google.com/assets/colab-badge.svg\" alt=\"Open In Colab\"/></a>"
      ]
    },
    {
      "cell_type": "markdown",
      "source": [
        "<center>\n",
        "<b><h1>Modul Praktek Python: Aplikasi To-Do List Sederhana</h1></b>\n",
        "</center>\n",
        "\n",
        "**NURITA EVITARINA, M.KOM**"
      ],
      "metadata": {
        "id": "EGODy0T2bBzu"
      }
    },
    {
      "cell_type": "markdown",
      "source": [
        "Tujuan Pembelajaran\n",
        "- Membuat dan menjalankan project Python\n",
        "- Menggunakan list, dictionary, fungsi, dan file JSON\n",
        "- Membuat CLI sederhana\n",
        "- Latihan dan refleksi mandiri"
      ],
      "metadata": {
        "id": "7wQIrN28bd1V"
      }
    },
    {
      "cell_type": "markdown",
      "source": [
        "\n",
        "\n",
        "---\n",
        "\n"
      ],
      "metadata": {
        "id": "xgLy0VlJbABr"
      }
    },
    {
      "cell_type": "markdown",
      "source": [
        "Langkah 1: Setup Project\n",
        "\n",
        "1. Buka Jupyter Notebook atau Google Colab\n",
        "2. Buat file baru dengan nama: todo_app.ipynb"
      ],
      "metadata": {
        "id": "6vV-7m6BboIN"
      }
    },
    {
      "cell_type": "markdown",
      "source": [
        "# **1. Inisialisasi Data dan Fungsi**"
      ],
      "metadata": {
        "id": "oLOThpWGYkjG"
      }
    },
    {
      "cell_type": "code",
      "execution_count": null,
      "metadata": {
        "id": "AOrmDPUNYVgM"
      },
      "outputs": [],
      "source": [
        "# Import modul json untuk membaca dan menulis file JSON\n",
        "import json\n",
        "\n",
        "# Import modul os untuk memeriksa keberadaan file\n",
        "import os\n",
        "\n",
        "# Menentukan path (lokasi) file tempat menyimpan data to-do list\n",
        "FILE_PATH = 'todos.json'\n",
        "\n",
        "# Fungsi untuk memuat (load) daftar tugas dari file JSON\n",
        "def load_tasks():\n",
        "    # Jika file belum ada, kembalikan list kosong\n",
        "    if not os.path.exists(FILE_PATH):\n",
        "        return []\n",
        "    # Jika file ada, buka file tersebut dan muat data JSON-nya\n",
        "    with open(FILE_PATH, 'r') as f:\n",
        "        return json.load(f)\n",
        "\n",
        "# Fungsi untuk menyimpan daftar tugas ke file JSON\n",
        "def save_tasks(tasks):\n",
        "    # Buka file dalam mode tulis dan simpan data dengan indentasi agar rapi\n",
        "    with open(FILE_PATH, 'w') as f:\n",
        "        json.dump(tasks, f, indent=4)"
      ]
    },
    {
      "cell_type": "markdown",
      "source": [
        "# **2. Fungsi Menambahkan dan Menampilkan Task**"
      ],
      "metadata": {
        "id": "p8-mNVeLYpzk"
      }
    },
    {
      "cell_type": "code",
      "source": [
        "# Fungsi untuk menambahkan task baru\n",
        "def add_task(title):\n",
        "    # Memuat daftar task yang sudah ada\n",
        "    tasks = load_tasks()\n",
        "    # Menambahkan task baru ke daftar dengan status default 'pending'\n",
        "    tasks.append({'title': title, 'status': 'pending'})\n",
        "    # Menyimpan kembali daftar task ke dalam file\n",
        "    save_tasks(tasks)\n",
        "    # Memberikan notifikasi bahwa task berhasil ditambahkan\n",
        "    print(f\"Task '{title}' berhasil ditambahkan.\")\n",
        "\n",
        "# Fungsi untuk menampilkan daftar task, bisa difilter berdasarkan status\n",
        "def show_tasks(filter_status=None):\n",
        "    # Memuat semua task dari file\n",
        "    tasks = load_tasks()\n",
        "\n",
        "    # Jika tidak ada task, tampilkan pesan dan keluar dari fungsi\n",
        "    if not tasks:\n",
        "        print(\"Belum ada task.\")\n",
        "        return\n",
        "\n",
        "    # Melakukan iterasi dan menampilkan task satu per satu\n",
        "    for i, task in enumerate(tasks, start=1):\n",
        "        # Jika filter status diterapkan dan task tidak cocok, lewati\n",
        "        if filter_status and task['status'] != filter_status:\n",
        "            continue\n",
        "        # Menampilkan task dengan nomor, judul, dan status\n",
        "        print(f\"{i}. {task['title']} - [{task['status']}]\")"
      ],
      "metadata": {
        "id": "tVzU95ezYZ4p"
      },
      "execution_count": null,
      "outputs": []
    },
    {
      "cell_type": "markdown",
      "source": [
        "# **3. Fungsi Menandai Selesai dan Menyortir**"
      ],
      "metadata": {
        "id": "8oLp1QjbYteF"
      }
    },
    {
      "cell_type": "code",
      "source": [
        "# Fungsi untuk menandai sebuah task sebagai 'done' (selesai)\n",
        "def mark_done(index):\n",
        "    # Memuat semua task dari file\n",
        "    tasks = load_tasks()\n",
        "\n",
        "    # Memeriksa apakah index yang diberikan valid\n",
        "    if 0 < index <= len(tasks):\n",
        "        # Mengubah status task di posisi index (dikurangi 1 karena list dimulai dari 0)\n",
        "        tasks[index-1]['status'] = 'done'\n",
        "        # Menyimpan kembali task yang sudah diperbarui\n",
        "        save_tasks(tasks)\n",
        "        print(\"Task berhasil ditandai selesai.\")\n",
        "    else:\n",
        "        # Jika index tidak valid, tampilkan pesan kesalahan\n",
        "        print(\"Index tidak valid.\")\n",
        "\n",
        "# Fungsi untuk menampilkan daftar task yang disortir berdasarkan status\n",
        "def show_sorted():\n",
        "    # Memuat dan mengurutkan task berdasarkan nilai 'status'\n",
        "    # Task dengan status 'done' akan muncul setelah 'pending' karena urutan alfabet\n",
        "    tasks = sorted(load_tasks(), key=lambda x: x['status'])\n",
        "\n",
        "    # Menampilkan task satu per satu setelah diurutkan\n",
        "    for i, task in enumerate(tasks, start=1):\n",
        "        print(f\"{i}. {task['title']} - [{task['status']}]\")\n"
      ],
      "metadata": {
        "id": "Z1c2PEq-Yb9D"
      },
      "execution_count": null,
      "outputs": []
    },
    {
      "cell_type": "markdown",
      "source": [
        "# **Tambahkan warna menggunakan ANSI escape (di terminal/CLI)**"
      ],
      "metadata": {
        "id": "KASd_B9GYxOs"
      }
    },
    {
      "cell_type": "code",
      "source": [
        "# Fungsi untuk memberikan warna pada teks menggunakan ANSI escape code\n",
        "def colored(text, color_code):\n",
        "    # \\033[{color_code}m = kode untuk memulai warna\n",
        "    # \\033[0m = kode untuk mengakhiri warna (reset ke default)\n",
        "    return f\"\\033[{color_code}m{text}\\033[0m\"\n",
        "\n",
        "# Fungsi untuk menampilkan daftar task dengan warna sesuai status\n",
        "def show_colored_tasks():\n",
        "    # Memuat daftar task dari file\n",
        "    tasks = load_tasks()\n",
        "\n",
        "    # Menampilkan task satu per satu dengan pewarnaan berdasarkan status\n",
        "    for i, task in enumerate(tasks, start=1):\n",
        "        # Gunakan warna hijau (32) jika 'done', merah (31) jika masih 'pending'\n",
        "        color = '32' if task['status'] == 'done' else '31'\n",
        "        # Mewarnai teks status menggunakan fungsi colored\n",
        "        status = colored(task['status'], color)\n",
        "        # Menampilkan task dengan status berwarna\n",
        "        print(f\"{i}. {task['title']} - [{status}]\")\n"
      ],
      "metadata": {
        "id": "zUFSkxi_YciL"
      },
      "execution_count": null,
      "outputs": []
    },
    {
      "cell_type": "markdown",
      "source": [
        "# **Ujicoba**"
      ],
      "metadata": {
        "id": "Bq7D_7UWYyWP"
      }
    },
    {
      "cell_type": "code",
      "source": [
        "def reset_tasks():\n",
        "    save_tasks([])\n",
        "\n",
        "def main():\n",
        "    reset_tasks()  # Kosongkan daftar terlebih dahulu\n",
        "    add_task(\"Belajar Python\")\n",
        "    add_task(\"Kerjakan tugas kuliah\")\n",
        "    show_tasks()\n",
        "    mark_done(1)\n",
        "    show_sorted()\n",
        "    show_colored_tasks()\n",
        "\n",
        "if __name__ == \"__main__\":\n",
        "    main()\n"
      ],
      "metadata": {
        "colab": {
          "base_uri": "https://localhost:8080/"
        },
        "id": "xIJPbrRKYgJJ",
        "outputId": "248b058d-378b-42c0-aa87-67373f721d45"
      },
      "execution_count": null,
      "outputs": [
        {
          "output_type": "stream",
          "name": "stdout",
          "text": [
            "Task 'Belajar Python' berhasil ditambahkan.\n",
            "Task 'Kerjakan tugas kuliah' berhasil ditambahkan.\n",
            "1. Belajar Python - [pending]\n",
            "2. Kerjakan tugas kuliah - [pending]\n",
            "Task berhasil ditandai selesai.\n",
            "1. Belajar Python - [done]\n",
            "2. Kerjakan tugas kuliah - [pending]\n",
            "1. Belajar Python - [\u001b[32mdone\u001b[0m]\n",
            "2. Kerjakan tugas kuliah - [\u001b[31mpending\u001b[0m]\n"
          ]
        }
      ]
    }
  ]
}