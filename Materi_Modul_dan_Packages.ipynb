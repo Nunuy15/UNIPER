{
  "cells": [
    {
      "cell_type": "markdown",
      "metadata": {
        "id": "view-in-github",
        "colab_type": "text"
      },
      "source": [
        "<a href=\"https://colab.research.google.com/github/Nunuy15/UNIPER/blob/main/Materi_Modul_dan_Packages.ipynb\" target=\"_parent\"><img src=\"https://colab.research.google.com/assets/colab-badge.svg\" alt=\"Open In Colab\"/></a>"
      ]
    },
    {
      "cell_type": "markdown",
      "id": "c6c0966d",
      "metadata": {
        "id": "c6c0966d"
      },
      "source": [
        "# Modul dan Package pada Python\n",
        "NURITA EVITARINA, M.KOM"
      ]
    },
    {
      "cell_type": "markdown",
      "id": "fc6e1f8f",
      "metadata": {
        "id": "fc6e1f8f"
      },
      "source": [
        "### 🎯 **Capaian Pembelajaran**\n",
        "- Menjelaskan konsep dan tujuan penggunaan modul dan package\n",
        "- Membuat dan mengelola modul Python sendiri\n",
        "- Mengelompokkan modul dalam struktur package\n",
        "- Mengimpor dan menggunakan modul dengan benar dalam program utama\n",
        "- Menerapkan modul dalam skenario program sederhana"
      ]
    },
    {
      "cell_type": "markdown",
      "id": "ffacdb76",
      "metadata": {
        "id": "ffacdb76"
      },
      "source": [
        "## 1. 🔍 Pengantar Modul"
      ]
    },
    {
      "cell_type": "markdown",
      "id": "0fe5225b",
      "metadata": {
        "id": "0fe5225b"
      },
      "source": [
        "Modul adalah file Python yang berisi sekumpulan fungsi, variabel, atau class yang ditulis untuk digunakan kembali di program lain."
      ]
    },
    {
      "cell_type": "code",
      "execution_count": null,
      "id": "cb29bb7c",
      "metadata": {
        "id": "cb29bb7c"
      },
      "outputs": [],
      "source": [
        "# sapa.py\n",
        "def halo(nama):\n",
        "    return f\"Halo, {nama}! Selamat belajar Python.\""
      ]
    },
    {
      "cell_type": "code",
      "execution_count": null,
      "id": "c2c117f5",
      "metadata": {
        "id": "c2c117f5"
      },
      "outputs": [],
      "source": [
        "# main.py\n",
        "import sapa\n",
        "print(sapa.halo(\"Ani\"))"
      ]
    },
    {
      "cell_type": "markdown",
      "id": "50dfdc6c",
      "metadata": {
        "id": "50dfdc6c"
      },
      "source": [
        "## 2. 🛠️ Membuat Modul Sendiri"
      ]
    },
    {
      "cell_type": "code",
      "execution_count": null,
      "id": "4bf232d8",
      "metadata": {
        "id": "4bf232d8"
      },
      "outputs": [],
      "source": [
        "# kalkulator.py\n",
        "def tambah(a, b):\n",
        "    return a + b\n",
        "\n",
        "def kurang(a, b):\n",
        "    return a - b"
      ]
    },
    {
      "cell_type": "code",
      "execution_count": null,
      "id": "8d6e3582",
      "metadata": {
        "id": "8d6e3582"
      },
      "outputs": [],
      "source": [
        "# main.py\n",
        "import kalkulator\n",
        "print(\"Hasil tambah:\", kalkulator.tambah(5, 3))\n",
        "print(\"Hasil kurang:\", kalkulator.kurang(5, 3))"
      ]
    },
    {
      "cell_type": "markdown",
      "id": "b336aa15",
      "metadata": {
        "id": "b336aa15"
      },
      "source": [
        "## 3. 📦 Apa Itu Package?"
      ]
    },
    {
      "cell_type": "markdown",
      "id": "c5699464",
      "metadata": {
        "id": "c5699464"
      },
      "source": [
        "Package adalah folder yang berisi banyak modul dan file `__init__.py`.\n",
        "\n",
        "### Struktur Folder:\n",
        "```\n",
        "konversi/\n",
        "├── __init__.py\n",
        "├── suhu.py\n",
        "└── panjang.py\n",
        "```\n"
      ]
    },
    {
      "cell_type": "code",
      "execution_count": null,
      "id": "733a61f0",
      "metadata": {
        "id": "733a61f0"
      },
      "outputs": [],
      "source": [
        "# suhu.py\n",
        "def celcius_ke_fahrenheit(c):\n",
        "    return (c * 9/5) + 32"
      ]
    },
    {
      "cell_type": "code",
      "execution_count": null,
      "id": "685f4b93",
      "metadata": {
        "id": "685f4b93"
      },
      "outputs": [],
      "source": [
        "# panjang.py\n",
        "def meter_ke_kilometer(m):\n",
        "    return m / 1000"
      ]
    },
    {
      "cell_type": "code",
      "execution_count": null,
      "id": "9248892b",
      "metadata": {
        "id": "9248892b"
      },
      "outputs": [],
      "source": [
        "# main.py\n",
        "from konversi import suhu, panjang\n",
        "\n",
        "print(\"30°C =\", suhu.celcius_ke_fahrenheit(30), \"°F\")\n",
        "print(\"5000 meter =\", panjang.meter_ke_kilometer(5000), \"km\")"
      ]
    },
    {
      "cell_type": "markdown",
      "id": "8661989e",
      "metadata": {
        "id": "8661989e"
      },
      "source": [
        "## 4. 📚 Modul Bawaan Python"
      ]
    },
    {
      "cell_type": "code",
      "execution_count": null,
      "id": "b5aeedac",
      "metadata": {
        "id": "b5aeedac"
      },
      "outputs": [],
      "source": [
        "import math\n",
        "import random\n",
        "\n",
        "print(\"Akar dari 25:\", math.sqrt(25))\n",
        "print(\"Angka acak antara 1–100:\", random.randint(1, 100))"
      ]
    },
    {
      "cell_type": "markdown",
      "id": "32960daf",
      "metadata": {
        "id": "32960daf"
      },
      "source": [
        "## 5. 📂 Mengatur Struktur Proyek"
      ]
    },
    {
      "cell_type": "markdown",
      "id": "35866a79",
      "metadata": {
        "id": "35866a79"
      },
      "source": [
        "Contoh struktur program riil:\n",
        "```\n",
        "aplikasi_penilaian/\n",
        "├── main.py\n",
        "├── hitung_nilai/\n",
        "│   ├── __init__.py\n",
        "│   ├── tugas.py\n",
        "│   ├── uts.py\n",
        "│   └── uas.py\n",
        "```\n"
      ]
    },
    {
      "cell_type": "code",
      "execution_count": null,
      "id": "b4f92899",
      "metadata": {
        "id": "b4f92899"
      },
      "outputs": [],
      "source": [
        "# tugas.py\n",
        "def nilai_tugas(angka):\n",
        "    return angka * 0.2"
      ]
    },
    {
      "cell_type": "code",
      "execution_count": null,
      "id": "bb0a91da",
      "metadata": {
        "id": "bb0a91da"
      },
      "outputs": [],
      "source": [
        "# uts.py\n",
        "def nilai_uts(angka):\n",
        "    return angka * 0.3"
      ]
    },
    {
      "cell_type": "code",
      "execution_count": null,
      "id": "32d9ce7e",
      "metadata": {
        "id": "32d9ce7e"
      },
      "outputs": [],
      "source": [
        "# uas.py\n",
        "def nilai_uas(angka):\n",
        "    return angka * 0.5"
      ]
    },
    {
      "cell_type": "code",
      "execution_count": null,
      "id": "d288f203",
      "metadata": {
        "id": "d288f203"
      },
      "outputs": [],
      "source": [
        "# main.py\n",
        "from hitung_nilai import tugas, uts, uas\n",
        "\n",
        "t = tugas.nilai_tugas(80)\n",
        "u1 = uts.nilai_uts(75)\n",
        "u2 = uas.nilai_uas(90)\n",
        "\n",
        "total = t + u1 + u2\n",
        "print(\"Nilai akhir:\", total)"
      ]
    },
    {
      "cell_type": "markdown",
      "id": "513dd984",
      "metadata": {
        "id": "513dd984"
      },
      "source": [
        "## 6. 🧪 Simulasi Program Sederhana"
      ]
    },
    {
      "cell_type": "code",
      "execution_count": null,
      "id": "ff43e03b",
      "metadata": {
        "id": "ff43e03b"
      },
      "outputs": [],
      "source": [
        "# Struktur:\n",
        "# projek_konversi/\n",
        "# ├── main.py\n",
        "# └── konversi/\n",
        "#     ├── __init__.py\n",
        "#     ├── suhu.py\n",
        "#     └── panjang.py\n",
        "\n",
        "# main.py\n",
        "from konversi import suhu, panjang\n",
        "\n",
        "print(\"=== Konversi Suhu ===\")\n",
        "print(\"40°C =\", suhu.celcius_ke_fahrenheit(40), \"°F\")\n",
        "print(\"=== Konversi Panjang ===\")\n",
        "print(\"3000 meter =\", panjang.meter_ke_kilometer(3000), \"km\")"
      ]
    },
    {
      "cell_type": "markdown",
      "id": "ffa2da4d",
      "metadata": {
        "id": "ffa2da4d"
      },
      "source": [
        "## 7. 💡 Tips & Best Practice"
      ]
    },
    {
      "cell_type": "markdown",
      "id": "fbed49a4",
      "metadata": {
        "id": "fbed49a4"
      },
      "source": [
        "- Hindari nama modul yang sama dengan modul bawaan Python\n",
        "- Gunakan `if __name__ == '__main__'` untuk uji lokal modul\n",
        "- Strukturkan package jika program semakin kompleks"
      ]
    }
  ],
  "metadata": {
    "colab": {
      "provenance": [],
      "include_colab_link": true
    }
  },
  "nbformat": 4,
  "nbformat_minor": 5
}