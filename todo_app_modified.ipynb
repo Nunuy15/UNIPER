{
  "cells": [
    {
      "cell_type": "markdown",
      "metadata": {
        "id": "view-in-github",
        "colab_type": "text"
      },
      "source": [
        "<a href=\"https://colab.research.google.com/github/Nunuy15/UNIPER/blob/main/todo_app_modified.ipynb\" target=\"_parent\"><img src=\"https://colab.research.google.com/assets/colab-badge.svg\" alt=\"Open In Colab\"/></a>"
      ]
    },
    {
      "cell_type": "markdown",
      "metadata": {
        "id": "EGODy0T2bBzu"
      },
      "source": [
        "<center>\n",
        "<b><h1>Modul Praktek Python: Aplikasi To-Do List Sederhana</h1></b>\n",
        "</center>\n",
        "\n",
        "**NURITA EVITARINA, M.KOM**"
      ]
    },
    {
      "cell_type": "markdown",
      "metadata": {
        "id": "7wQIrN28bd1V"
      },
      "source": [
        "Tujuan Pembelajaran\n",
        "- Membuat dan menjalankan project Python\n",
        "- Menggunakan list, dictionary, fungsi, dan file JSON\n",
        "- Membuat CLI sederhana\n",
        "- Latihan dan refleksi mandiri"
      ]
    },
    {
      "cell_type": "markdown",
      "metadata": {
        "id": "xgLy0VlJbABr"
      },
      "source": [
        "\n",
        "\n",
        "---\n",
        "\n"
      ]
    },
    {
      "cell_type": "markdown",
      "metadata": {
        "id": "6vV-7m6BboIN"
      },
      "source": [
        "Langkah 1: Setup Project\n",
        "\n",
        "1. Buka Jupyter Notebook atau Google Colab\n",
        "2. Buat file baru dengan nama: todo_app.ipynb"
      ]
    },
    {
      "cell_type": "markdown",
      "metadata": {
        "id": "oLOThpWGYkjG"
      },
      "source": [
        "# **1. Inisialisasi Data dan Fungsi**"
      ]
    },
    {
      "cell_type": "code",
      "execution_count": 1,
      "metadata": {
        "id": "AOrmDPUNYVgM"
      },
      "outputs": [],
      "source": [
        "# Import modul json untuk membaca dan menulis file JSON\n",
        "import json\n",
        "\n",
        "# Import modul os untuk memeriksa keberadaan file\n",
        "import os\n",
        "\n",
        "# Menentukan path (lokasi) file tempat menyimpan data to-do list\n",
        "FILE_PATH = 'todos.json'\n",
        "\n",
        "# Fungsi untuk memuat (load) daftar tugas dari file JSON\n",
        "def load_tasks():\n",
        "    # Jika file belum ada, kembalikan list kosong\n",
        "    if not os.path.exists(FILE_PATH):\n",
        "        return []\n",
        "    # Jika file ada, buka file tersebut dan muat data JSON-nya\n",
        "    with open(FILE_PATH, 'r') as f:\n",
        "        return json.load(f)\n",
        "\n",
        "# Fungsi untuk menyimpan daftar tugas ke file JSON\n",
        "def save_tasks(tasks):\n",
        "    # Buka file dalam mode tulis dan simpan data dengan indentasi agar rapi\n",
        "    with open(FILE_PATH, 'w') as f:\n",
        "        json.dump(tasks, f, indent=4)"
      ]
    },
    {
      "cell_type": "markdown",
      "metadata": {
        "id": "p8-mNVeLYpzk"
      },
      "source": [
        "# **2. Fungsi Menambahkan dan Menampilkan Task**"
      ]
    },
    {
      "cell_type": "code",
      "execution_count": 2,
      "metadata": {
        "id": "tVzU95ezYZ4p"
      },
      "outputs": [],
      "source": [
        "# Fungsi untuk menambahkan task baru\n",
        "def add_task(title):\n",
        "    # Memuat daftar task yang sudah ada\n",
        "    tasks = load_tasks()\n",
        "    # Menambahkan task baru ke daftar dengan status default 'pending'\n",
        "    tasks.append({'title': title, 'status': 'pending'})\n",
        "    # Menyimpan kembali daftar task ke dalam file\n",
        "    save_tasks(tasks)\n",
        "    # Memberikan notifikasi bahwa task berhasil ditambahkan\n",
        "    print(f\"Task '{title}' berhasil ditambahkan.\")\n",
        "\n",
        "# Fungsi untuk menampilkan daftar task, bisa difilter berdasarkan status\n",
        "def show_tasks(filter_status=None):\n",
        "    # Memuat semua task dari file\n",
        "    tasks = load_tasks()\n",
        "\n",
        "    # Jika tidak ada task, tampilkan pesan dan keluar dari fungsi\n",
        "    if not tasks:\n",
        "        print(\"Belum ada task.\")\n",
        "        return\n",
        "\n",
        "    # Melakukan iterasi dan menampilkan task satu per satu\n",
        "    for i, task in enumerate(tasks, start=1):\n",
        "        # Jika filter status diterapkan dan task tidak cocok, lewati\n",
        "        if filter_status and task['status'] != filter_status:\n",
        "            continue\n",
        "        # Menampilkan task dengan nomor, judul, dan status\n",
        "        print(f\"{i}. {task['title']} - [{task['status']}]\")"
      ]
    },
    {
      "cell_type": "markdown",
      "metadata": {
        "id": "8oLp1QjbYteF"
      },
      "source": [
        "# **3. Fungsi Menandai Selesai dan Menyortir**"
      ]
    },
    {
      "cell_type": "code",
      "execution_count": 3,
      "metadata": {
        "id": "Z1c2PEq-Yb9D"
      },
      "outputs": [],
      "source": [
        "# Fungsi untuk menandai sebuah task sebagai 'done' (selesai)\n",
        "def mark_done(index):\n",
        "    # Memuat semua task dari file\n",
        "    tasks = load_tasks()\n",
        "\n",
        "    # Memeriksa apakah index yang diberikan valid\n",
        "    if 0 < index <= len(tasks):\n",
        "        # Mengubah status task di posisi index (dikurangi 1 karena list dimulai dari 0)\n",
        "        tasks[index-1]['status'] = 'done'\n",
        "        # Menyimpan kembali task yang sudah diperbarui\n",
        "        save_tasks(tasks)\n",
        "        print(\"Task berhasil ditandai selesai.\")\n",
        "    else:\n",
        "        # Jika index tidak valid, tampilkan pesan kesalahan\n",
        "        print(\"Index tidak valid.\")\n",
        "\n",
        "# Fungsi untuk menampilkan daftar task yang disortir berdasarkan status\n",
        "def show_sorted():\n",
        "    # Memuat dan mengurutkan task berdasarkan nilai 'status'\n",
        "    # Task dengan status 'done' akan muncul setelah 'pending' karena urutan alfabet\n",
        "    tasks = sorted(load_tasks(), key=lambda x: x['status'])\n",
        "\n",
        "    # Menampilkan task satu per satu setelah diurutkan\n",
        "    for i, task in enumerate(tasks, start=1):\n",
        "        print(f\"{i}. {task['title']} - [{task['status']}]\")\n"
      ]
    },
    {
      "cell_type": "markdown",
      "metadata": {
        "id": "KASd_B9GYxOs"
      },
      "source": [
        "# **Tambahkan warna menggunakan ANSI escape (di terminal/CLI)**"
      ]
    },
    {
      "cell_type": "code",
      "execution_count": 4,
      "metadata": {
        "id": "zUFSkxi_YciL"
      },
      "outputs": [],
      "source": [
        "# Fungsi untuk memberikan warna pada teks menggunakan ANSI escape code\n",
        "def colored(text, color_code):\n",
        "    # \\033[{color_code}m = kode untuk memulai warna\n",
        "    # \\033[0m = kode untuk mengakhiri warna (reset ke default)\n",
        "    return f\"\\033[{color_code}m{text}\\033[0m\"\n",
        "\n",
        "# Fungsi untuk menampilkan daftar task dengan warna sesuai status\n",
        "def show_colored_tasks():\n",
        "    # Memuat daftar task dari file\n",
        "    tasks = load_tasks()\n",
        "\n",
        "    # Menampilkan task satu per satu dengan pewarnaan berdasarkan status\n",
        "    for i, task in enumerate(tasks, start=1):\n",
        "        # Gunakan warna hijau (32) jika 'done', merah (31) jika masih 'pending'\n",
        "        color = '32' if task['status'] == 'done' else '31'\n",
        "        # Mewarnai teks status menggunakan fungsi colored\n",
        "        status = colored(task['status'], color)\n",
        "        # Menampilkan task dengan status berwarna\n",
        "        print(f\"{i}. {task['title']} - [{status}]\")\n"
      ]
    },
    {
      "cell_type": "markdown",
      "metadata": {
        "id": "Bq7D_7UWYyWP"
      },
      "source": [
        "# **Ujicoba**"
      ]
    },
    {
      "cell_type": "code",
      "execution_count": 5,
      "metadata": {
        "colab": {
          "base_uri": "https://localhost:8080/"
        },
        "id": "xIJPbrRKYgJJ",
        "outputId": "d673df6a-2760-477f-b46c-e29ac9ad1a82"
      },
      "outputs": [
        {
          "output_type": "stream",
          "name": "stdout",
          "text": [
            "Task 'Belajar Python' berhasil ditambahkan.\n",
            "Task 'Kerjakan tugas kuliah' berhasil ditambahkan.\n",
            "1. Belajar Python - [pending]\n",
            "2. Kerjakan tugas kuliah - [pending]\n",
            "Task berhasil ditandai selesai.\n",
            "1. Belajar Python - [done]\n",
            "2. Kerjakan tugas kuliah - [pending]\n",
            "1. Belajar Python - [\u001b[32mdone\u001b[0m]\n",
            "2. Kerjakan tugas kuliah - [\u001b[31mpending\u001b[0m]\n"
          ]
        }
      ],
      "source": [
        "def reset_tasks():\n",
        "    save_tasks([])\n",
        "\n",
        "def main():\n",
        "    reset_tasks()  # Kosongkan daftar terlebih dahulu\n",
        "    add_task(\"Belajar Python\")\n",
        "    add_task(\"Kerjakan tugas kuliah\")\n",
        "    show_tasks()\n",
        "    mark_done(1)\n",
        "    show_sorted()\n",
        "    show_colored_tasks()\n",
        "\n",
        "if __name__ == \"__main__\":\n",
        "    main()\n"
      ]
    },
    {
      "cell_type": "markdown",
      "source": [
        "# **Soal 1: Menambahkan Kategori Tugas**"
      ],
      "metadata": {
        "id": "Z7ebh_zKcMC_"
      }
    },
    {
      "cell_type": "code",
      "execution_count": 11,
      "metadata": {
        "id": "3c9adb16"
      },
      "outputs": [],
      "source": [
        "\n",
        "tasks = []\n",
        "\n",
        "def add_task(description, category):\n",
        "    task = {\n",
        "        'description': description,\n",
        "        'category': category,\n",
        "        'status': 'pending'\n",
        "    }\n",
        "    tasks.append(task)\n",
        "    log_action(f'Tugas ditambahkan: \"{description}\"')\n",
        "\n",
        "def show_tasks():\n",
        "    for i, task in enumerate(tasks):\n",
        "        print(f\"{i+1}. [{task['category']}] {task['description']} - [{task['status']}]\")\n"
      ]
    },
    {
      "cell_type": "code",
      "source": [
        "print(\"📌 Soal 1: Tambahkan Tugas\")\n",
        "add_task(\"Kirim laporan mingguan\", \"Kerja\")\n",
        "add_task(\"Kerjakan tugas UAS\", \"Kuliah\")\n",
        "add_task(\"Beli hadiah\", \"Pribadi\")\n",
        "tasks[1]['status'] = 'done'\n",
        "show_tasks()"
      ],
      "metadata": {
        "colab": {
          "base_uri": "https://localhost:8080/"
        },
        "id": "R-7xoGuBcKSm",
        "outputId": "dcafbc51-ac44-4c7f-d591-605c825ba105"
      },
      "execution_count": 12,
      "outputs": [
        {
          "output_type": "stream",
          "name": "stdout",
          "text": [
            "📌 Soal 1: Tambahkan Tugas\n",
            "1. [Kerja] Kirim laporan mingguan - [pending]\n",
            "2. [Kuliah] Kerjakan tugas UAS - [done]\n",
            "3. [Pribadi] Beli hadiah - [pending]\n"
          ]
        }
      ]
    },
    {
      "cell_type": "markdown",
      "source": [
        "## **Soal 2: Filter Tugas Berdasarkan Kategori**"
      ],
      "metadata": {
        "id": "dEgGw4eJcShg"
      }
    },
    {
      "cell_type": "code",
      "execution_count": 13,
      "metadata": {
        "id": "e7af4c5f"
      },
      "outputs": [],
      "source": [
        "def filter_by_category(category):\n",
        "    filtered = [task for task in tasks if task['category'].lower() == category.lower()]\n",
        "    for i, task in enumerate(filtered):\n",
        "        print(f\"{i+1}. [{task['category']}] {task['description']} - [{task['status']}]\")\n"
      ]
    },
    {
      "cell_type": "code",
      "source": [
        "print(\"\\n📌 Soal 2: Filter kategori = 'Kuliah'\")\n",
        "filter_by_category(\"Kuliah\")"
      ],
      "metadata": {
        "colab": {
          "base_uri": "https://localhost:8080/"
        },
        "id": "Y8mebg7PcU5T",
        "outputId": "0e86be3e-5b62-4e93-ec57-991ad84dc9b6"
      },
      "execution_count": 14,
      "outputs": [
        {
          "output_type": "stream",
          "name": "stdout",
          "text": [
            "\n",
            "📌 Soal 2: Filter kategori = 'Kuliah'\n",
            "1. [Kuliah] Kerjakan tugas UAS - [done]\n"
          ]
        }
      ]
    },
    {
      "cell_type": "markdown",
      "source": [
        "## **Soal 3: Hapus Tugas Berdasarkan Index**"
      ],
      "metadata": {
        "id": "hmuQvx1scX5a"
      }
    },
    {
      "cell_type": "code",
      "execution_count": 15,
      "metadata": {
        "id": "20a37447"
      },
      "outputs": [],
      "source": [
        "def delete_task(index):\n",
        "    if 0 <= index < len(tasks):\n",
        "        removed = tasks.pop(index)\n",
        "        log_action(f'Tugas dihapus: \"{removed[\"description\"]}\"')\n",
        "    else:\n",
        "        print(\"Index tidak valid.\")\n"
      ]
    },
    {
      "cell_type": "code",
      "source": [
        "print(\"\\n📌 Soal 3: Hapus tugas index ke-0\")\n",
        "delete_task(0)\n",
        "show_tasks()"
      ],
      "metadata": {
        "colab": {
          "base_uri": "https://localhost:8080/"
        },
        "id": "s5KM04Jhci6D",
        "outputId": "c81879b4-e651-4589-82b7-509fbb98f136"
      },
      "execution_count": 16,
      "outputs": [
        {
          "output_type": "stream",
          "name": "stdout",
          "text": [
            "\n",
            "📌 Soal 3: Hapus tugas index ke-0\n",
            "1. [Kuliah] Kerjakan tugas UAS - [done]\n",
            "2. [Pribadi] Beli hadiah - [pending]\n"
          ]
        }
      ]
    },
    {
      "cell_type": "markdown",
      "source": [
        "## **Soal 4: Statistik Tugas**"
      ],
      "metadata": {
        "id": "kHdeMzhjcetV"
      }
    },
    {
      "cell_type": "code",
      "execution_count": 17,
      "metadata": {
        "id": "c6941dde"
      },
      "outputs": [],
      "source": [
        "def show_stats():\n",
        "    total = len(tasks)\n",
        "    done = len([t for t in tasks if t['status'] == 'done'])\n",
        "    pending = total - done\n",
        "    print(f\"Total tugas: {total}\")\n",
        "    print(f\"Selesai: {done}\")\n",
        "    print(f\"Belum selesai: {pending}\")\n"
      ]
    },
    {
      "cell_type": "code",
      "source": [
        "print(\"\\n📌 Soal 4: Statistik\")\n",
        "show_stats()"
      ],
      "metadata": {
        "colab": {
          "base_uri": "https://localhost:8080/"
        },
        "id": "DRokSxywcgl3",
        "outputId": "d6ae5ebc-2fed-44f4-9898-7e5a76f11ae7"
      },
      "execution_count": 18,
      "outputs": [
        {
          "output_type": "stream",
          "name": "stdout",
          "text": [
            "\n",
            "📌 Soal 4: Statistik\n",
            "Total tugas: 2\n",
            "Selesai: 1\n",
            "Belum selesai: 1\n"
          ]
        }
      ]
    },
    {
      "cell_type": "markdown",
      "source": [
        "# **Soal 5: Menyimpan Riwayat Aksi**"
      ],
      "metadata": {
        "id": "IurROE01cpf7"
      }
    },
    {
      "cell_type": "code",
      "execution_count": 19,
      "metadata": {
        "id": "0d192a4c"
      },
      "outputs": [],
      "source": [
        "from datetime import datetime\n",
        "\n",
        "def log_action(message):\n",
        "    with open(\"log.txt\", \"a\") as f:\n",
        "        f.write(f\"[{datetime.now().strftime('%Y-%m-%d %H:%M')}] {message}\\n\")\n"
      ]
    },
    {
      "cell_type": "code",
      "source": [
        "print(\"\\n📌 Soal 5: Logging\")\n",
        "log_action('Tugas ditambahkan: \"Belajar Python\"')"
      ],
      "metadata": {
        "colab": {
          "base_uri": "https://localhost:8080/"
        },
        "id": "IZE4K7Chcqou",
        "outputId": "d7774cdc-dae7-4eeb-d5f1-1c82a9c9652c"
      },
      "execution_count": 20,
      "outputs": [
        {
          "output_type": "stream",
          "name": "stdout",
          "text": [
            "\n",
            "📌 Soal 5: Logging\n"
          ]
        }
      ]
    }
  ],
  "metadata": {
    "colab": {
      "provenance": [],
      "include_colab_link": true
    },
    "kernelspec": {
      "display_name": "Python 3",
      "name": "python3"
    },
    "language_info": {
      "name": "python"
    }
  },
  "nbformat": 4,
  "nbformat_minor": 0
}